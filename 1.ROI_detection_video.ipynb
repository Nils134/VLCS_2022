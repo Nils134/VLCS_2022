{
 "cells": [
  {
   "cell_type": "markdown",
   "id": "6a5daae4",
   "metadata": {},
   "source": [
    "### Importing Libraries\n",
    "For installation of the libraries, you have to run the following commands from a terminal or a powershell window: \n",
    "```\n",
    "pip install imutils\n",
    "pip install numpy\n",
    "pip install scikit-image\n",
    "pip install opencv-python\n",
    "pip install matplotlib\n",
    "```"
   ]
  },
  {
   "cell_type": "code",
   "execution_count": null,
   "id": "27b8556a",
   "metadata": {},
   "outputs": [],
   "source": [
    "from imutils import contours \n",
    "from skimage import measure  \n",
    "import numpy as np          \n",
    "import argparse\n",
    "import imutils\n",
    "import cv2\n",
    "import matplotlib.pyplot as plt\n",
    "\n",
    "%matplotlib inline\n",
    "\n"
   ]
  },
  {
   "cell_type": "code",
   "execution_count": null,
   "id": "68d915f8",
   "metadata": {},
   "outputs": [],
   "source": [
    "def plot_imshow_in_array(matrices_to_show:list , max_image_in_row:int = 4 , plots_kwargs_list:list = []):\n",
    "    \"\"\"\n",
    "        Plots the image list in an array of row * col , where max(col) = max_image_in_row, and the \n",
    "        number of rows is calculated accordingly. \n",
    "        @param matrices_to_show a list of matrices to be plotted using plt.imshow\n",
    "        @param max_image_in_row maximum number of plots in one row\n",
    "        @param plots_kwargs_list list of dictionaries of parameters of each plot\n",
    "        \n",
    "    \"\"\"    \n",
    "    ## total number of plots\n",
    "    plot_count = len(matrices_to_show)\n",
    "    \n",
    "    assert len(plots_kwargs_list) == 0 or len(plots_kwargs_list) == len(matrices_to_show) , \"\"\" plots_kwargs_list should be either an empty \n",
    "                                                                                    list or should have the same number of members\n",
    "                                                                                    as matrices_to_show \"\"\"\n",
    "    \n",
    "    ## number of rows\n",
    "    nrow = plot_count // max_image_in_row + (1 if (plot_count % max_image_in_row > 0) else 0)\n",
    "    \n",
    "    ## number of columns\n",
    "    ncol = max_image_in_row if plot_count >= max_image_in_row else plot_count\n",
    "    \n",
    "    ## plotting using imshow\n",
    "    fig , ax = plt.subplots(nrow , ncol , figsize = (12 , 6))\n",
    "    for i in range(plot_count):\n",
    "        \n",
    "        ## select the subplot\n",
    "        plt.subplot(nrow , ncol , i+1 )\n",
    "        \n",
    "        ## format the argument dictionary of the imshow function\n",
    "        if(len(plots_kwargs_list) == 0):\n",
    "            config_dict = {}\n",
    "        else: \n",
    "            config_dict = plots_kwargs_list[i]\n",
    "        \n",
    "        ## pass the image as well as extra arguments to the imshow function\n",
    "        plt.imshow(matrices_to_show[i] , **config_dict)\n",
    "        \n",
    "    return fig , ax \n",
    "    "
   ]
  },
  {
   "cell_type": "code",
   "execution_count": null,
   "id": "cfcba8d3",
   "metadata": {},
   "outputs": [],
   "source": [
    "## address of the image to be processed\n",
    "image_address = \"./resources/image_946.jpg\"\n",
    "\n",
    "## test the image address\n",
    "print(image_address)"
   ]
  },
  {
   "cell_type": "code",
   "execution_count": 13,
   "id": "7202f714",
   "metadata": {},
   "outputs": [
    {
     "data": {
      "image/png": "[encoded data removed]",
      "text/plain": [
       "<Figure size 432x288 with 1 Axes>"
      ]
     },
     "metadata": {
      "needs_background": "light"
     },
     "output_type": "display_data"
    }
   ],
   "source": [
    "values = []\n",
    "\n",
    "for i in range(1, 962):\n",
    "    image_address = \"./resources/image_\" + str(i) + \".jpg\"\n",
    "\n",
    "    ## read the image\n",
    "    image = cv2.imread(image_address)\n",
    "\n",
    "    ## convert BGR to RGB, we won't use this in any of the processes, just to test image loading\n",
    "    rgb_image = cv2.cvtColor(image , cv2.COLOR_BGR2RGB) \n",
    "\n",
    "    ## convert BGR to greyscale\n",
    "    gray = cv2.cvtColor(image, cv2.COLOR_BGR2GRAY)\n",
    "\n",
    "    ## blur the image with a gussian filter to remove any noise, and also to soften the image\n",
    "    blurred = cv2.GaussianBlur(gray, (11, 11), 0)\n",
    "\n",
    "    # ## plot images in a nice array. We have to define the colormap for imshow to get a black and white image, as the default \n",
    "    # ## color map shows colors between yellow (pixel = 255) and black (pixel = 0)\n",
    "    # fig , ax = plot_imshow_in_array([rgb_image , gray , blurred] , \\\n",
    "    #                                 max_image_in_row = 4 , \\\n",
    "    #                                 plots_kwargs_list = [{} , {'cmap':'gray', 'vmin':0, 'vmax':255} , {'cmap':'gray', 'vmin':0, 'vmax':255}] )\n",
    "\n",
    "    # ## use this command to place enough spacing between the borders of images and the numbers\n",
    "    # fig.tight_layout()\n",
    "\n",
    "    thresh = cv2.threshold(blurred, 250 , 255 , cv2.THRESH_BINARY)[1]\n",
    "\n",
    "    thresh = cv2.erode(thresh, None, iterations=2)\n",
    "    thresh = cv2.dilate(thresh, None, iterations=4)\n",
    "\n",
    "    MIN_ALLOWED_PIXEL_IN_REGION = 5000\n",
    "    MAX_GREY_VALUE = 255\n",
    "\n",
    "    ## find out regions and label them\n",
    "    labels = measure.label(thresh, connectivity=2, background=0)\n",
    "\n",
    "\n",
    "    ## The list holding all contiguous masks that will be found\n",
    "    individual_masks = []\n",
    "\n",
    "    ## loop over the unique components\n",
    "    for label in np.unique(labels):\n",
    "        # if this is the background (dark) label, ignore it\n",
    "        if label == 0:\n",
    "            continue\n",
    "            \n",
    "        # otherwise, construct the label mask and count the number of pixels \n",
    "        labelMask = np.zeros(thresh.shape, dtype=\"uint8\")\n",
    "        labelMask[labels == label] = MAX_GREY_VALUE\n",
    "        numPixels = cv2.countNonZero(labelMask)\n",
    "\n",
    "        \n",
    "        # this condition filters \"very\" small regions\n",
    "        if numPixels > MIN_ALLOWED_PIXEL_IN_REGION:\n",
    "            #plt.figure()        \n",
    "            individual_masks.append(labelMask)\n",
    "    \n",
    "    ## make a copy of the individual_mask to avoid them from being overwritten\n",
    "    individual_masks_cp = [mask.copy() for mask in individual_masks]\n",
    "\n",
    "    value = 0\n",
    "\n",
    "    for idx , current_mask in enumerate(individual_masks_cp):\n",
    "        cnts = cv2.findContours(current_mask.copy(), cv2.RETR_EXTERNAL,cv2.CHAIN_APPROX_SIMPLE)\n",
    "        cnts = imutils.grab_contours(cnts)\n",
    "    #     cnts = contours.sort_contours(cnts)[0]\n",
    "\n",
    "        ## create a mask to hold the values of the enclosing circle, we also fill inside the cirlce. \n",
    "        filled_circle = np.zeros(current_mask.shape)\n",
    "\n",
    "        ## find the coordinates of the center and the radius of the circle\n",
    "        ((cX, cY), radius) = cv2.minEnclosingCircle(cnts[0])\n",
    "        \n",
    "        ## fill the mask values surrounded by the circle\n",
    "        cv2.circle(filled_circle, (int(cX), int(cY)), int(radius),(255, 255, 255), -1)\n",
    "        \n",
    "        ## count the number of pixels in the circle\n",
    "        circle_area = cv2.countNonZero(filled_circle)\n",
    "        \n",
    "        ## count the number of non-zero pixels in the original region\n",
    "        mask_non_zero_area = cv2.countNonZero(individual_masks[idx])\n",
    "        \n",
    "        ## plot the circle and the region, and show the filled ratio in each circle\n",
    "        # plot_imshow_in_array([filled_circle , individual_masks[idx]] , max_image_in_row = 4)\n",
    "\n",
    "        if ((mask_non_zero_area / circle_area) > 0.9):\n",
    "            value = 1\n",
    "\n",
    "        #plt.title(\"circles' filled ratio = {:.2}\".format(mask_non_zero_area / circle_area))\n",
    "\n",
    "    values.append(value)\n",
    "\n",
    "plt.plot(values)\n",
    "plt.show()\n"
   ]
  },
  {
   "cell_type": "markdown",
   "id": "ec51f596",
   "metadata": {},
   "source": [
    "### Loading images\n",
    "Load the image and convert it to grayscale, then make it blurred"
   ]
  },
  {
   "cell_type": "code",
   "execution_count": null,
   "id": "5e571eb8",
   "metadata": {},
   "outputs": [],
   "source": [
    "## read the image\n",
    "image = cv2.imread(image_address)\n",
    "\n",
    "## convert BGR to RGB, we won't use this in any of the processes, just to test image loading\n",
    "rgb_image = cv2.cvtColor(image , cv2.COLOR_BGR2RGB) \n",
    "\n",
    "## convert BGR to greyscale\n",
    "gray = cv2.cvtColor(image, cv2.COLOR_BGR2GRAY)\n",
    "\n",
    "## blur the image with a gussian filter to remove any noise, and also to soften the image\n",
    "blurred = cv2.GaussianBlur(gray, (11, 11), 0)\n",
    "\n",
    "## plot images in a nice array. We have to define the colormap for imshow to get a black and white image, as the default \n",
    "## color map shows colors between yellow (pixel = 255) and black (pixel = 0)\n",
    "fig , ax = plot_imshow_in_array([rgb_image , gray , blurred] , \\\n",
    "                                max_image_in_row = 4 , \\\n",
    "                                plots_kwargs_list = [{} , {'cmap':'gray', 'vmin':0, 'vmax':255} , {'cmap':'gray', 'vmin':0, 'vmax':255}] )\n",
    "\n",
    "## use this command to place enough spacing between the borders of images and the numbers\n",
    "fig.tight_layout()\n"
   ]
  },
  {
   "cell_type": "markdown",
   "id": "4d7761b7",
   "metadata": {},
   "source": [
    "### Thresholds\n",
    "Run a threshold on your image to find out where the brightest spot appears. \n",
    "The binary threshold function that we use in this example sets any pixel bigger than 250 to 255, and anything below that to 0. It also marks the edge of your bright region with a green line. "
   ]
  },
  {
   "cell_type": "code",
   "execution_count": null,
   "id": "5ae7f307",
   "metadata": {},
   "outputs": [],
   "source": [
    "thresh = cv2.threshold(blurred, 250 , 255 , cv2.THRESH_BINARY)[1]\n",
    "plt.imshow(thresh)\n",
    "plt.show()"
   ]
  },
  {
   "cell_type": "markdown",
   "id": "76cd3a21",
   "metadata": {},
   "source": [
    "## Remove blobs of noise\n",
    "In the previous picture, we are likely to come across multiple bright regions. Only one of these is our region of interest (ROI). So, in the first step of finding the ROI, we iterate over the image for a couple of times to remove the very small bright points (which might be due to noise) that exist around larger bright regions. "
   ]
  },
  {
   "cell_type": "code",
   "execution_count": null,
   "id": "de335bf0",
   "metadata": {},
   "outputs": [],
   "source": [
    "## perform a series of erosions and dilations to remove\n",
    "## any small blobs of noise from the thresholded image\n",
    "\n",
    "thresh = cv2.erode(thresh, None, iterations=2)\n",
    "thresh = cv2.dilate(thresh, None, iterations=4)\n",
    "\n",
    "plt.imshow(thresh)\n",
    "plt.show()"
   ]
  },
  {
   "cell_type": "markdown",
   "id": "57e680fa",
   "metadata": {},
   "source": [
    "## Extract contiguous bright islands\n",
    "We do a connected component analysis, which iterates over the image to find out what regions are contiguious (only one bright island per iteration is found). This block generates a list of \"masks\", each holding one contiguous region. The regions that contain fewer pixels than a threshold are also ignored. This threshold, as well as your image resolution, determine what the maximum allowed distance from your receiver is. "
   ]
  },
  {
   "cell_type": "code",
   "execution_count": null,
   "id": "e6b48ba4",
   "metadata": {
    "scrolled": true
   },
   "outputs": [],
   "source": [
    "MIN_ALLOWED_PIXEL_IN_REGION = 5000\n",
    "MAX_GREY_VALUE = 255\n",
    "\n",
    "## find out regions and label them\n",
    "labels = measure.label(thresh, connectivity=2, background=0)\n",
    "\n",
    "\n",
    "## The list holding all contiguous masks that will be found\n",
    "individual_masks = []\n",
    "\n",
    "## loop over the unique components\n",
    "for label in np.unique(labels):\n",
    "    # if this is the background (dark) label, ignore it\n",
    "    if label == 0:\n",
    "        continue\n",
    "        \n",
    "    # otherwise, construct the label mask and count the number of pixels \n",
    "    labelMask = np.zeros(thresh.shape, dtype=\"uint8\")\n",
    "    labelMask[labels == label] = MAX_GREY_VALUE\n",
    "    numPixels = cv2.countNonZero(labelMask)\n",
    "\n",
    "    \n",
    "    # this condition filters \"very\" small regions\n",
    "    if numPixels > MIN_ALLOWED_PIXEL_IN_REGION:\n",
    "        plt.figure()        \n",
    "        individual_masks.append(labelMask)\n",
    "\n",
    "if (len(individual_masks) > 0):\n",
    "    plot_imshow_in_array(matrices_to_show = individual_masks , max_image_in_row = 4)\n",
    "else:\n",
    "    print(\"Empty\")\n",
    "\n",
    "\n"
   ]
  },
  {
   "cell_type": "markdown",
   "id": "11dccba4",
   "metadata": {},
   "source": [
    "### Find out the similarity of the regions to a circle\n",
    "Based on the shape of our light source, we know that our ROI would be a circle (or it would be better to say the closest shape to a circle is our ROI, as will be seen in the \"rolling shutter\" assignment). In the following block, we find the smallest circle that encloses each region, calculate its area and find the ratio of the circle that is filled by its inner contiguous region. The ratio which is closer to 1, shows a better match for a cirlce. "
   ]
  },
  {
   "cell_type": "code",
   "execution_count": null,
   "id": "e78f173c",
   "metadata": {},
   "outputs": [],
   "source": [
    "## make a copy of the individual_mask to avoid them from being overwritten\n",
    "individual_masks_cp = [mask.copy() for mask in individual_masks]\n",
    "\n",
    "value = 0\n",
    "\n",
    "for idx , current_mask in enumerate(individual_masks_cp):\n",
    "    cnts = cv2.findContours(current_mask.copy(), cv2.RETR_EXTERNAL,cv2.CHAIN_APPROX_SIMPLE)\n",
    "    cnts = imutils.grab_contours(cnts)\n",
    "#     cnts = contours.sort_contours(cnts)[0]\n",
    "\n",
    "    ## create a mask to hold the values of the enclosing circle, we also fill inside the cirlce. \n",
    "    filled_circle = np.zeros(current_mask.shape)\n",
    "\n",
    "    ## find the coordinates of the center and the radius of the circle\n",
    "    ((cX, cY), radius) = cv2.minEnclosingCircle(cnts[0])\n",
    "    \n",
    "    ## fill the mask values surrounded by the circle\n",
    "    cv2.circle(filled_circle, (int(cX), int(cY)), int(radius),(255, 255, 255), -1)\n",
    "    \n",
    "    ## count the number of pixels in the circle\n",
    "    circle_area = cv2.countNonZero(filled_circle)\n",
    "    \n",
    "    ## count the number of non-zero pixels in the original region\n",
    "    mask_non_zero_area = cv2.countNonZero(individual_masks[idx])\n",
    "    \n",
    "    ## plot the circle and the region, and show the filled ratio in each circle\n",
    "    plot_imshow_in_array([filled_circle , individual_masks[idx]] , max_image_in_row = 4)\n",
    "\n",
    "    if ((mask_non_zero_area / circle_area) > 0.9):\n",
    "        value = 1\n",
    "\n",
    "    plt.title(\"circles' filled ratio = {:.2}\".format(mask_non_zero_area / circle_area))\n",
    "\n",
    "print(value)"
   ]
  },
  {
   "cell_type": "markdown",
   "id": "50c8aa2a",
   "metadata": {},
   "source": [
    "## Conclusion\n",
    "Based on the results above, when the maximum similarity is taken, the last image is determined to be the ROI we are looking for."
   ]
  }
 ],
 "metadata": {
  "interpreter": {
   "hash": "8fbc708d160412df5d279681d53ef990a33aad2997b6ebf0ad75d129f4cbe066"
  },
  "kernelspec": {
   "display_name": "Python 3.10.4 64-bit",
   "language": "python",
   "name": "python3"
  },
  "language_info": {
   "codemirror_mode": {
    "name": "ipython",
    "version": 3
   },
   "file_extension": ".py",
   "mimetype": "text/x-python",
   "name": "python",
   "nbconvert_exporter": "python",
   "pygments_lexer": "ipython3",
   "version": "3.10.4"
  }
 },
 "nbformat": 4,
 "nbformat_minor": 5
}
