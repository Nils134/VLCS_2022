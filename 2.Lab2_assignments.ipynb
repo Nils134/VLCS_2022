{
 "cells": [
  {
   "cell_type": "markdown",
   "id": "48acbb0b",
   "metadata": {},
   "source": [
    "# General description\n",
    "In this notebook, you are going to write the code for the assignement that is described in the lab manual. Please provide the code for each section in its relevant block that is noted below. \n",
    "\n",
    "For your reference, you can take a look at notebook number 1, which has a sample script of finding a Region-of-Interest.\n"
   ]
  },
  {
   "cell_type": "markdown",
   "id": "d3643275",
   "metadata": {},
   "source": [
    "# Binary Transmission"
   ]
  },
  {
   "cell_type": "markdown",
   "id": "745b65fa",
   "metadata": {},
   "source": [
    "### Binary transmission 4.a: \n",
    "Convert the images into a time-series plot"
   ]
  },
  {
   "cell_type": "code",
   "execution_count": null,
   "id": "4031957d",
   "metadata": {},
   "outputs": [],
   "source": []
  },
  {
   "cell_type": "markdown",
   "id": "ad9baf8b",
   "metadata": {},
   "source": [
    "### Binary transmission 4.b: \n",
    "Determine the time threshold to measure communication's symbol width"
   ]
  },
  {
   "cell_type": "code",
   "execution_count": null,
   "id": "222be865",
   "metadata": {},
   "outputs": [],
   "source": []
  },
  {
   "cell_type": "markdown",
   "id": "125716e3",
   "metadata": {},
   "source": [
    "### Binary transmission 4.c: \n",
    "Determine the pixel threshold to determine symbols"
   ]
  },
  {
   "cell_type": "code",
   "execution_count": null,
   "id": "5968c992",
   "metadata": {},
   "outputs": [],
   "source": []
  },
  {
   "cell_type": "markdown",
   "id": "dc2b01d5",
   "metadata": {},
   "source": [
    "### Binary transmission 4.d\n",
    "Decode the binary sequence obtained in previous tasks."
   ]
  },
  {
   "cell_type": "code",
   "execution_count": null,
   "id": "7790b3e7",
   "metadata": {},
   "outputs": [],
   "source": []
  },
  {
   "cell_type": "markdown",
   "id": "48ad247f",
   "metadata": {},
   "source": [
    "### Binary transmission 4.e\n",
    "Identify the maximum data rate at a 20-cm range (plot needed for the results of the experiments)"
   ]
  },
  {
   "cell_type": "code",
   "execution_count": null,
   "id": "24770305",
   "metadata": {},
   "outputs": [],
   "source": []
  },
  {
   "cell_type": "markdown",
   "id": "821d7efb",
   "metadata": {},
   "source": [
    "### Binary transmission 4.f\n",
    "Measure the effect of ambient light at a 20-cm range (plot needed for the results of the experiments)"
   ]
  },
  {
   "cell_type": "code",
   "execution_count": null,
   "id": "cd362501",
   "metadata": {},
   "outputs": [],
   "source": []
  },
  {
   "cell_type": "markdown",
   "id": "c820d285",
   "metadata": {},
   "source": [
    "### Binary transmission 4.g\n",
    "Identify maximum range\t"
   ]
  },
  {
   "cell_type": "code",
   "execution_count": null,
   "id": "8b11632f",
   "metadata": {},
   "outputs": [],
   "source": []
  },
  {
   "cell_type": "markdown",
   "id": "44961884",
   "metadata": {},
   "source": [
    "# Rolling shutter transmission"
   ]
  },
  {
   "cell_type": "markdown",
   "id": "fbd9fc3c",
   "metadata": {},
   "source": [
    "### Rolling shutter 4.a\n",
    "Identify the frequency range for rolling shutter patterns"
   ]
  },
  {
   "cell_type": "code",
   "execution_count": null,
   "id": "96e97d41",
   "metadata": {},
   "outputs": [],
   "source": []
  },
  {
   "cell_type": "markdown",
   "id": "463aa81f",
   "metadata": {},
   "source": [
    "### Rolling shutter 4.b\n",
    "Identify a 1D region of the image for pattern recognition"
   ]
  },
  {
   "cell_type": "code",
   "execution_count": null,
   "id": "c6f24664",
   "metadata": {},
   "outputs": [],
   "source": []
  },
  {
   "cell_type": "markdown",
   "id": "b01a8480",
   "metadata": {},
   "source": [
    "### Rolling shutter 4.c\n",
    "Use the 1D vector to differentiate four patterns"
   ]
  },
  {
   "cell_type": "code",
   "execution_count": null,
   "id": "336a1c67",
   "metadata": {},
   "outputs": [],
   "source": []
  },
  {
   "cell_type": "markdown",
   "id": "16909b63",
   "metadata": {},
   "source": [
    "### Rolling shutter 4.d\n",
    "Identify the maximum range\t"
   ]
  },
  {
   "cell_type": "code",
   "execution_count": null,
   "id": "37b56c9d",
   "metadata": {},
   "outputs": [],
   "source": []
  },
  {
   "cell_type": "markdown",
   "id": "32cf3900",
   "metadata": {},
   "source": [
    "### Rolling shutter 4.e\n",
    "Measure the effect of ambient light"
   ]
  },
  {
   "cell_type": "code",
   "execution_count": null,
   "id": "f970af7a",
   "metadata": {},
   "outputs": [],
   "source": []
  }
 ],
 "metadata": {
  "kernelspec": {
   "display_name": "Python 3 (ipykernel)",
   "language": "python",
   "name": "python3"
  },
  "language_info": {
   "codemirror_mode": {
    "name": "ipython",
    "version": 3
   },
   "file_extension": ".py",
   "mimetype": "text/x-python",
   "name": "python",
   "nbconvert_exporter": "python",
   "pygments_lexer": "ipython3",
   "version": "3.8.3"
  }
 },
 "nbformat": 4,
 "nbformat_minor": 5
}
