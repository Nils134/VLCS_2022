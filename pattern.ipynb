{
 "cells": [
  {
   "cell_type": "markdown",
   "metadata": {},
   "source": [
    "Decompose video into frames"
   ]
  },
  {
   "cell_type": "code",
   "execution_count": 67,
   "metadata": {},
   "outputs": [
    {
     "name": "stdout",
     "output_type": "stream",
     "text": [
      "Saved 346 images\n"
     ]
    }
   ],
   "source": [
    "from imutils import contours \n",
    "from skimage import measure  \n",
    "import numpy as np          \n",
    "import argparse\n",
    "import imutils\n",
    "import matplotlib.pyplot as plt\n",
    "import cv2\n",
    "\n",
    "vidcap = cv2.VideoCapture('VID_20220519_132403.mp4')\n",
    "\n",
    "success, image = vidcap.read()\n",
    "count = 1\n",
    "while success:\n",
    "  cv2.imwrite(\"pattern/image_%d.jpg\" % count, image)    \n",
    "  success, image = vidcap.read()\n",
    "  count += 1\n",
    "\n",
    "print(\"Saved\", count, \"images\")"
   ]
  },
  {
   "cell_type": "code",
   "execution_count": 68,
   "metadata": {},
   "outputs": [],
   "source": [
    "def plot_imshow_in_array(matrices_to_show:list , max_image_in_row:int = 4 , plots_kwargs_list:list = []):\n",
    "    \"\"\"\n",
    "        Plots the image list in an array of row * col , where max(col) = max_image_in_row, and the \n",
    "        number of rows is calculated accordingly. \n",
    "        @param matrices_to_show a list of matrices to be plotted using plt.imshow\n",
    "        @param max_image_in_row maximum number of plots in one row\n",
    "        @param plots_kwargs_list list of dictionaries of parameters of each plot\n",
    "        \n",
    "    \"\"\"    \n",
    "    ## total number of plots\n",
    "    plot_count = len(matrices_to_show)\n",
    "    \n",
    "    assert len(plots_kwargs_list) == 0 or len(plots_kwargs_list) == len(matrices_to_show) , \"\"\" plots_kwargs_list should be either an empty \n",
    "                                                                                    list or should have the same number of members\n",
    "                                                                                    as matrices_to_show \"\"\"\n",
    "    \n",
    "    ## number of rows\n",
    "    nrow = plot_count // max_image_in_row + (1 if (plot_count % max_image_in_row > 0) else 0)\n",
    "    \n",
    "    ## number of columns\n",
    "    ncol = max_image_in_row if plot_count >= max_image_in_row else plot_count\n",
    "    \n",
    "    ## plotting using imshow\n",
    "    fig , ax = plt.subplots(nrow , ncol , figsize = (12 , 6))\n",
    "    for i in range(plot_count):\n",
    "        \n",
    "        ## select the subplot\n",
    "        plt.subplot(nrow , ncol , i+1 )\n",
    "        \n",
    "        ## format the argument dictionary of the imshow function\n",
    "        if(len(plots_kwargs_list) == 0):\n",
    "            config_dict = {}\n",
    "        else: \n",
    "            config_dict = plots_kwargs_list[i]\n",
    "        \n",
    "        ## pass the image as well as extra arguments to the imshow function\n",
    "        plt.imshow(matrices_to_show[i] , **config_dict)\n",
    "        \n",
    "    return fig , ax "
   ]
  },
  {
   "cell_type": "code",
   "execution_count": 69,
   "metadata": {},
   "outputs": [
    {
     "name": "stdout",
     "output_type": "stream",
     "text": [
      "346\n"
     ]
    }
   ],
   "source": [
    "pictures = []\n",
    "print(count)\n",
    "for i in range(1, count, 1):\n",
    "\n",
    "    image_address = \"./pattern/image_\" +str(i) + \".jpg\"\n",
    "\n",
    "    ## read the image\n",
    "    image = cv2.imread(image_address)\n",
    "\n",
    "    ## convert BGR to RGB, we won't use this in any of the processes, just to test image loading\n",
    "    rgb_image = cv2.cvtColor(image , cv2.COLOR_BGR2RGB) \n",
    "\n",
    "    ## convert BGR to greyscale\n",
    "    gray = cv2.cvtColor(image, cv2.COLOR_BGR2GRAY)\n",
    "\n",
    "    ## blur the image with a gussian filter to remove any noise, and also to soften the image\n",
    "    blurred = cv2.GaussianBlur(gray, (11, 11), 0)\n",
    "\n",
    "    thresh = cv2.threshold(blurred, 50 , 255 , cv2.THRESH_BINARY)[1]\n",
    "\n",
    "    if i == 1:\n",
    "        max = 0\n",
    "        (rows, columns) = thresh.shape[:2]\n",
    "\n",
    "        for row in range(0, rows):\n",
    "            count = 0\n",
    "            for column in range(0, columns):\n",
    "                if thresh[row, column] == 255:\n",
    "                    count+=1\n",
    "            if count > max:\n",
    "                max = count\n",
    "                best_row = row\n",
    "\n",
    "    # thresh[best_row,:] = 255\n",
    "\n",
    "    regions = [i]\n",
    "\n",
    "    last = -1\n",
    "    cnt = 0\n",
    "    for j in range(0, columns):\n",
    "        if last != -1 and thresh[best_row, j] != last:\n",
    "            last = thresh[best_row, j]\n",
    "            regions.append(cnt)\n",
    "            cnt = 0\n",
    "        last = thresh[best_row, j]\n",
    "        cnt += 1\n",
    "\n",
    "    regions.append(cnt)\n",
    "\n",
    "    pictures.append(regions)\n",
    "    # print(\"Finished picture \" + str(i))\n",
    "\n",
    "# print(pictures)\n"
   ]
  },
  {
   "cell_type": "code",
   "execution_count": 70,
   "metadata": {},
   "outputs": [],
   "source": [
    "features = [] #count blue, count yellow, width blue, width yellow, standard dev yellow?\n",
    "\n",
    "\n",
    "for i in range(len(pictures)):\n",
    "    \n",
    "    circle = pictures[i][2:len(pictures[i])-1]\n",
    "    # print(pictures[i])\n",
    "    # print(circle)\n",
    "    feature = [pictures[i][0]]\n",
    "    if len(circle) % 2 ==0:\n",
    "        feature.append(len(circle)/2)\n",
    "        feature.append(len(circle)/2) #yellow\n",
    "    else:\n",
    "        feature.append((len(circle)-1)/2)\n",
    "        feature.append((len(circle)+1)/2) #yellow\n",
    "    \n",
    "    yellow = 0\n",
    "    blue = 0\n",
    "    for j in range(len(circle)):\n",
    "        if j % 2 == 0:\n",
    "            yellow += circle[j]\n",
    "        else:\n",
    "            blue += circle[j]\n",
    "    yellow /= feature[2]\n",
    "    blue /= feature[1]\n",
    "    feature.append(blue)\n",
    "    feature.append(yellow)\n",
    "    # print(feature)\n",
    "    features.append(feature)\n"
   ]
  },
  {
   "cell_type": "markdown",
   "metadata": {},
   "source": [
    "K-means clustering"
   ]
  },
  {
   "cell_type": "code",
   "execution_count": 77,
   "metadata": {},
   "outputs": [
    {
     "data": {
      "image/png": "[encoded data removed]",
      "text/plain": [
       "<Figure size 432x288 with 1 Axes>"
      ]
     },
     "metadata": {
      "needs_background": "light"
     },
     "output_type": "display_data"
    }
   ],
   "source": [
    "import numpy as np\n",
    "import matplotlib.pyplot as plt\n",
    "\n",
    "numpyFeatures = np.array(features)\n",
    "\n",
    "pattern1 = np.concatenate( (numpyFeatures[1:22] , numpyFeatures[113:142], numpyFeatures[233:262]))\n",
    "pattern2 = np.concatenate((numpyFeatures[23:52],  numpyFeatures[143:172] , numpyFeatures[263:292]))\n",
    "pattern3 = np.concatenate((numpyFeatures[53:82] , numpyFeatures[173:202] , numpyFeatures[293:322]))\n",
    "pattern4 = np.concatenate((numpyFeatures[83:112] , numpyFeatures[203:232] , numpyFeatures[323:345]))\n",
    "\n",
    "pattern1X = pattern1[:,3]\n",
    "pattern1Y = pattern1[:,4]\n",
    "\n",
    "pattern2X = pattern2[:,3]\n",
    "pattern2Y = pattern2[:,4]\n",
    "\n",
    "pattern3X = pattern3[:,3]\n",
    "pattern3Y = pattern3[:,4]\n",
    "\n",
    "pattern4X = pattern4[:,3]\n",
    "pattern4Y = pattern4[:,4]\n",
    "\n",
    "# X= numpyFeatures[:,3]\n",
    "# Y= numpyFeatures[:,4]\n",
    "\n",
    "\n",
    "# print(X)\n",
    "# print(Y)\n",
    "\n",
    "plt.scatter(pattern1X, pattern1Y, color = \"red\")\n",
    "plt.scatter(pattern2X, pattern2Y, color = \"green\")\n",
    "plt.scatter(pattern3X, pattern3Y, color = \"blue\")\n",
    "plt.scatter(pattern4X, pattern4Y, color = \"black\")\n",
    "\n",
    "plt.show()"
   ]
  },
  {
   "cell_type": "code",
   "execution_count": 97,
   "metadata": {},
   "outputs": [
    {
     "name": "stdout",
     "output_type": "stream",
     "text": [
      "[[-0.89153754 -0.88220686]\n",
      " [-0.84635102  1.33954243]\n",
      " [ 0.33943269  0.34127039]\n",
      " [ 1.54911434 -0.83306474]]\n"
     ]
    },
    {
     "data": {
      "image/png": "[encoded data removed]",
      "text/plain": [
       "<Figure size 432x288 with 1 Axes>"
      ]
     },
     "metadata": {
      "needs_background": "light"
     },
     "output_type": "display_data"
    },
    {
     "name": "stdout",
     "output_type": "stream",
     "text": [
      "[2 2 2 2 2 2 2 2 2 2 2 2 2 2 2 2 2 2 2 2 2 2 1 1 1 1 1 1 1 1 1 1 1 1 1 1 1\n",
      " 1 1 1 1 1 1 1 1 1 1 1 1 1 1 1 0 0 0 0 0 0 0 0 0 0 0 0 0 0 0 0 0 0 0 0 0 0\n",
      " 0 0 0 0 0 0 0 0 3 3 3 3 3 3 3 3 3 3 3 3 3 3 3 3 3 3 3 3 3 3 3 3 3 3 3 3 3\n",
      " 3 2 2 2 2 2 2 2 2 2 2 2 2 2 2 2 2 2 2 2 2 2 2 2 2 2 2 2 2 2 2 1 1 1 1 1 1\n",
      " 1 1 1 1 1 1 1 1 1 1 1 1 1 1 1 1 1 1 1 1 1 1 1 1 0 0 0 0 0 0 0 0 0 0 0 0 0\n",
      " 0 0 0 0 0 0 0 0 0 0 0 0 0 0 0 0 0 3 3 3 3 3 3 3 3 3 3 3 3 3 3 3 3 3 3 3 3\n",
      " 3 3 3 3 3 3 3 3 3 3 2 2 2 2 2 2 2 2 2 2 2 2 2 2 2 2 2 2 2 2 2 2 2 2 2 2 2\n",
      " 2 2 2 1 1 1 1 1 1 1 1 1 1 1 1 1 1 1 1 1 1 1 1 1 1 1 1 1 1 1 1 1 1 0 0 0 0\n",
      " 0 0 0 0 0 0 0 0 0 0 0 0 0 0 0 0 0 0 0 0 0 0 0 0 0 0 3 3 3 3 3 3 3 3 3 3 3\n",
      " 3 3 3 3 3 3 3 3 3 3 3 3]\n",
      "[(53, 82), (173, 202), (293, 322)]\n",
      "[(23, 52), (143, 172), (263, 292)]\n",
      "[(1, 22), (113, 142), (233, 262)]\n",
      "[(83, 112), (203, 232), (323, 345)]\n"
     ]
    }
   ],
   "source": [
    "from kneed import KneeLocator\n",
    "from sklearn.datasets import make_blobs\n",
    "from sklearn.cluster import KMeans\n",
    "from sklearn.metrics import silhouette_score\n",
    "from sklearn.preprocessing import StandardScaler\n",
    "import itertools\n",
    "\n",
    "kmeansFeatures = numpyFeatures[:,3:5]\n",
    "# print(scaled_features)\n",
    "\n",
    "scaler = StandardScaler()\n",
    "scaled_features = scaler.fit_transform(kmeansFeatures)\n",
    "\n",
    "kmeans = KMeans(\n",
    "init=\"random\",\n",
    "n_clusters=4,\n",
    "n_init=10,\n",
    "max_iter=300,\n",
    "random_state=42)\n",
    "\n",
    "kmeans.fit(scaled_features)\n",
    "\n",
    "kmeans.cluster_centers_\n",
    "\n",
    "\n",
    "pattern1 = np.concatenate( (scaled_features[1:22] , scaled_features[113:142], scaled_features[233:262]))\n",
    "pattern2 = np.concatenate((scaled_features[23:52],  scaled_features[143:172] , scaled_features[263:292]))\n",
    "pattern3 = np.concatenate((scaled_features[53:82] , scaled_features[173:202] , scaled_features[293:322]))\n",
    "pattern4 = np.concatenate((scaled_features[83:112] , scaled_features[203:232] , scaled_features[323:345]))\n",
    "\n",
    "plt.scatter(pattern1[:,0], pattern1[:,1], color = \"red\")\n",
    "plt.scatter(pattern2[:,0], pattern2[:,1], color = \"green\")\n",
    "plt.scatter(pattern3[:,0], pattern3[:,1], color = \"blue\")\n",
    "plt.scatter(pattern4[:,0], pattern4[:,1], color = \"black\")\n",
    "\n",
    "print(kmeans.cluster_centers_)\n",
    "\n",
    "plt.scatter(kmeans.cluster_centers_[:,0], kmeans.cluster_centers_[:,1], color = \"orange\")\n",
    "\n",
    "plt.show()\n",
    "\n",
    "\n",
    "print(kmeans.labels_)\n",
    "\n",
    "indices_1 = []\n",
    "indices_2 = []\n",
    "indices_3 = []\n",
    "indices_4 = []\n",
    "\n",
    "for i in range(len(kmeans.labels_)):\n",
    "    if kmeans.labels_[i] == 0:\n",
    "        indices_1.append(i)\n",
    "\n",
    "    if kmeans.labels_[i] == 1:\n",
    "        indices_2.append(i)\n",
    "\n",
    "    if kmeans.labels_[i] == 2:\n",
    "        indices_3.append(i)\n",
    "\n",
    "    if kmeans.labels_[i] == 3:\n",
    "        indices_4.append(i)\n",
    "\n",
    "def ranges(i):\n",
    "    for a,b in itertools.groupby(enumerate(i), lambda pair: pair[1] -pair[0]):\n",
    "        b =list(b)\n",
    "        yield b[0][1]+1, b[-1][1]+1\n",
    "\n",
    "\n",
    "\n",
    "print(list(ranges(indices_1)))\n",
    "print(list(ranges(indices_2)))\n",
    "print(list(ranges(indices_3)))\n",
    "print(list(ranges(indices_4)))"
   ]
  }
 ],
 "metadata": {
  "interpreter": {
   "hash": "d2d8ea0776fc5a857a404be9b35777bf74f558dfae556d368e573856bad17705"
  },
  "kernelspec": {
   "display_name": "Python 3.9.12 64-bit (windows store)",
   "language": "python",
   "name": "python3"
  },
  "language_info": {
   "codemirror_mode": {
    "name": "ipython",
    "version": 3
   },
   "file_extension": ".py",
   "mimetype": "text/x-python",
   "name": "python",
   "nbconvert_exporter": "python",
   "pygments_lexer": "ipython3",
   "version": "3.9.12"
  },
  "orig_nbformat": 4
 },
 "nbformat": 4,
 "nbformat_minor": 2
}
